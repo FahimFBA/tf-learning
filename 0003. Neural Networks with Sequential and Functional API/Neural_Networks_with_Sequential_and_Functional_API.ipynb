{
  "nbformat": 4,
  "nbformat_minor": 0,
  "metadata": {
    "colab": {
      "provenance": [],
      "gpuType": "T4"
    },
    "kernelspec": {
      "name": "python3",
      "display_name": "Python 3"
    },
    "language_info": {
      "name": "python"
    },
    "accelerator": "GPU"
  },
  "cells": [
    {
      "cell_type": "code",
      "execution_count": 1,
      "metadata": {
        "id": "GVCeFTBsdBXa"
      },
      "outputs": [],
      "source": [
        "import os\n",
        "os.environ['TF_CPP_MIN_LOG_LEVEL'] = '2' # ignore information messages from tensorflow\n",
        "\n",
        "import tensorflow as tf\n",
        "from tensorflow import keras\n",
        "from tensorflow.keras import layers\n",
        "from tensorflow.keras.datasets import mnist"
      ]
    },
    {
      "cell_type": "code",
      "source": [
        "# use GPU\n",
        "physical_devices = tf.config.list_physical_devices('GPU')\n",
        "tf.config.experimental.set_memory_growth(physical_devices[0], True)"
      ],
      "metadata": {
        "id": "cORJt8-FecAH"
      },
      "execution_count": 2,
      "outputs": []
    },
    {
      "cell_type": "code",
      "source": [
        "# loading dataset\n",
        "(x_train, y_train), (x_test, y_test) = mnist.load_data()\n",
        "print(x_train.shape)\n",
        "print(y_train.shape)"
      ],
      "metadata": {
        "colab": {
          "base_uri": "https://localhost:8080/"
        },
        "id": "mE_veuo2erXH",
        "outputId": "5808d0ab-12a8-4b71-95cb-99d597347459"
      },
      "execution_count": 3,
      "outputs": [
        {
          "output_type": "stream",
          "name": "stdout",
          "text": [
            "Downloading data from https://storage.googleapis.com/tensorflow/tf-keras-datasets/mnist.npz\n",
            "11490434/11490434 [==============================] - 0s 0us/step\n",
            "(60000, 28, 28)\n",
            "(60000,)\n"
          ]
        }
      ]
    },
    {
      "cell_type": "code",
      "source": [
        "# flatten and normalize\n",
        "x_train = x_train.reshape(-1, 28*28).astype(\"float32\") / 255.0\n",
        "x_test = x_test.reshape(-1, 28*28).astype(\"float32\") / 255.0\n",
        "\n",
        "# x_train = tf.convert_to_tensor(x_train)"
      ],
      "metadata": {
        "id": "M-E7xuhKfBSa"
      },
      "execution_count": 4,
      "outputs": []
    },
    {
      "cell_type": "code",
      "source": [
        "# create a basic neural network\n",
        "\n",
        "# using sequential API (very convenient, not very flexible)\n",
        "# It only allows us to map one input into one output\n",
        "model = keras.Sequential(\n",
        "    [\n",
        "        layers.Dense(512, activation='relu'),\n",
        "        layers.Dense(256, activation='relu'),\n",
        "        layers.Dense(10),\n",
        "    ]\n",
        ")\n",
        "\n",
        "model.compile(\n",
        "    loss = keras.losses.SparseCategoricalCrossentropy(from_logits = True),\n",
        "    optimizer = keras.optimizers.Adam(lr=0.001),\n",
        "    metrics = [\"accuracy\"],\n",
        ")\n",
        "\n",
        "model.fit(x_train, y_train, batch_size = 32, epochs = 5, verbose = 2)\n",
        "model.evaluate(x_test, y_test, batch_size = 32, verbose = 2)"
      ],
      "metadata": {
        "colab": {
          "base_uri": "https://localhost:8080/"
        },
        "id": "PZDiokiifM8v",
        "outputId": "7acacd6f-c5b6-40cd-ca7d-87de8069291e"
      },
      "execution_count": 5,
      "outputs": [
        {
          "output_type": "stream",
          "name": "stderr",
          "text": [
            "WARNING:absl:`lr` is deprecated in Keras optimizer, please use `learning_rate` or use the legacy optimizer, e.g.,tf.keras.optimizers.legacy.Adam.\n"
          ]
        },
        {
          "output_type": "stream",
          "name": "stdout",
          "text": [
            "Epoch 1/5\n",
            "1875/1875 - 6s - loss: 0.1850 - accuracy: 0.9441 - 6s/epoch - 3ms/step\n",
            "Epoch 2/5\n",
            "1875/1875 - 5s - loss: 0.0791 - accuracy: 0.9751 - 5s/epoch - 2ms/step\n",
            "Epoch 3/5\n",
            "1875/1875 - 4s - loss: 0.0559 - accuracy: 0.9820 - 4s/epoch - 2ms/step\n",
            "Epoch 4/5\n",
            "1875/1875 - 4s - loss: 0.0391 - accuracy: 0.9876 - 4s/epoch - 2ms/step\n",
            "Epoch 5/5\n",
            "1875/1875 - 5s - loss: 0.0335 - accuracy: 0.9896 - 5s/epoch - 2ms/step\n",
            "313/313 - 1s - loss: 0.0825 - accuracy: 0.9776 - 704ms/epoch - 2ms/step\n"
          ]
        },
        {
          "output_type": "execute_result",
          "data": {
            "text/plain": [
              "[0.08254842460155487, 0.9775999784469604]"
            ]
          },
          "metadata": {},
          "execution_count": 5
        }
      ]
    },
    {
      "cell_type": "code",
      "source": [
        "# create a basic neural network\n",
        "\n",
        "# using sequential API (very convenient, not very flexible)\n",
        "# It only allows us to map one input into one output\n",
        "model = keras.Sequential(\n",
        "    [\n",
        "        layers.Dense(512, activation='relu'),\n",
        "        layers.Dense(256, activation='relu'),\n",
        "        layers.Dense(10),\n",
        "    ]\n",
        ")\n",
        "\n",
        "model.compile(\n",
        "    loss = keras.losses.SparseCategoricalCrossentropy(from_logits = True),\n",
        "    optimizer = keras.optimizers.Adam(lr=0.001),\n",
        "    metrics = [\"accuracy\"],\n",
        ")\n",
        "\n",
        "model.fit(x_train, y_train, batch_size = 32, epochs = 15, verbose = 2)\n",
        "model.evaluate(x_test, y_test, batch_size = 32, verbose = 2)"
      ],
      "metadata": {
        "colab": {
          "base_uri": "https://localhost:8080/"
        },
        "id": "iPB6L9yLgLoY",
        "outputId": "55d2bb5d-2d8b-4e06-dfb2-b311954dcd15"
      },
      "execution_count": 6,
      "outputs": [
        {
          "output_type": "stream",
          "name": "stderr",
          "text": [
            "WARNING:absl:`lr` is deprecated in Keras optimizer, please use `learning_rate` or use the legacy optimizer, e.g.,tf.keras.optimizers.legacy.Adam.\n"
          ]
        },
        {
          "output_type": "stream",
          "name": "stdout",
          "text": [
            "Epoch 1/15\n",
            "1875/1875 - 5s - loss: 0.1868 - accuracy: 0.9438 - 5s/epoch - 3ms/step\n",
            "Epoch 2/15\n",
            "1875/1875 - 5s - loss: 0.0788 - accuracy: 0.9758 - 5s/epoch - 3ms/step\n",
            "Epoch 3/15\n",
            "1875/1875 - 4s - loss: 0.0546 - accuracy: 0.9825 - 4s/epoch - 2ms/step\n",
            "Epoch 4/15\n",
            "1875/1875 - 4s - loss: 0.0429 - accuracy: 0.9867 - 4s/epoch - 2ms/step\n",
            "Epoch 5/15\n",
            "1875/1875 - 5s - loss: 0.0325 - accuracy: 0.9897 - 5s/epoch - 3ms/step\n",
            "Epoch 6/15\n",
            "1875/1875 - 4s - loss: 0.0281 - accuracy: 0.9913 - 4s/epoch - 2ms/step\n",
            "Epoch 7/15\n",
            "1875/1875 - 4s - loss: 0.0248 - accuracy: 0.9919 - 4s/epoch - 2ms/step\n",
            "Epoch 8/15\n",
            "1875/1875 - 5s - loss: 0.0209 - accuracy: 0.9931 - 5s/epoch - 3ms/step\n",
            "Epoch 9/15\n",
            "1875/1875 - 4s - loss: 0.0197 - accuracy: 0.9937 - 4s/epoch - 2ms/step\n",
            "Epoch 10/15\n",
            "1875/1875 - 4s - loss: 0.0158 - accuracy: 0.9947 - 4s/epoch - 2ms/step\n",
            "Epoch 11/15\n",
            "1875/1875 - 5s - loss: 0.0165 - accuracy: 0.9950 - 5s/epoch - 2ms/step\n",
            "Epoch 12/15\n",
            "1875/1875 - 4s - loss: 0.0143 - accuracy: 0.9959 - 4s/epoch - 2ms/step\n",
            "Epoch 13/15\n",
            "1875/1875 - 4s - loss: 0.0144 - accuracy: 0.9956 - 4s/epoch - 2ms/step\n",
            "Epoch 14/15\n",
            "1875/1875 - 5s - loss: 0.0128 - accuracy: 0.9963 - 5s/epoch - 3ms/step\n",
            "Epoch 15/15\n",
            "1875/1875 - 4s - loss: 0.0138 - accuracy: 0.9961 - 4s/epoch - 2ms/step\n",
            "313/313 - 1s - loss: 0.0923 - accuracy: 0.9827 - 641ms/epoch - 2ms/step\n"
          ]
        },
        {
          "output_type": "execute_result",
          "data": {
            "text/plain": [
              "[0.09232733398675919, 0.982699990272522]"
            ]
          },
          "metadata": {},
          "execution_count": 6
        }
      ]
    },
    {
      "cell_type": "code",
      "source": [
        "# create a basic neural network\n",
        "\n",
        "# using sequential API (very convenient, not very flexible)\n",
        "# It only allows us to map one input into one output\n",
        "model = keras.Sequential(\n",
        "    [\n",
        "        keras.Input(shape=(28*28)), #specify the input\n",
        "        layers.Dense(512, activation='relu'),\n",
        "        layers.Dense(256, activation='relu'),\n",
        "        layers.Dense(10),\n",
        "    ]\n",
        ")\n",
        "\n",
        "print(model.summary()) # print the model summary\n",
        "\n",
        "# exit the code with sys.exit\n",
        "\n",
        "import sys\n",
        "sys.exit()\n",
        "\n",
        "\n",
        "model.compile(\n",
        "    loss = keras.losses.SparseCategoricalCrossentropy(from_logits = True),\n",
        "    optimizer = keras.optimizers.Adam(lr=0.001),\n",
        "    metrics = [\"accuracy\"],\n",
        ")\n",
        "\n",
        "model.fit(x_train, y_train, batch_size = 32, epochs = 15, verbose = 2)\n",
        "model.evaluate(x_test, y_test, batch_size = 32, verbose = 2)"
      ],
      "metadata": {
        "colab": {
          "base_uri": "https://localhost:8080/",
          "height": 436
        },
        "id": "TsIC84-8lAL0",
        "outputId": "b9002976-a314-435a-f588-dc5ffc855ea8"
      },
      "execution_count": 7,
      "outputs": [
        {
          "output_type": "stream",
          "name": "stdout",
          "text": [
            "Model: \"sequential_2\"\n",
            "_________________________________________________________________\n",
            " Layer (type)                Output Shape              Param #   \n",
            "=================================================================\n",
            " dense_6 (Dense)             (None, 512)               401920    \n",
            "                                                                 \n",
            " dense_7 (Dense)             (None, 256)               131328    \n",
            "                                                                 \n",
            " dense_8 (Dense)             (None, 10)                2570      \n",
            "                                                                 \n",
            "=================================================================\n",
            "Total params: 535818 (2.04 MB)\n",
            "Trainable params: 535818 (2.04 MB)\n",
            "Non-trainable params: 0 (0.00 Byte)\n",
            "_________________________________________________________________\n",
            "None\n"
          ]
        },
        {
          "output_type": "error",
          "ename": "SystemExit",
          "evalue": "",
          "traceback": [
            "An exception has occurred, use %tb to see the full traceback.\n",
            "\u001b[0;31mSystemExit\u001b[0m\n"
          ]
        },
        {
          "output_type": "stream",
          "name": "stderr",
          "text": [
            "/usr/local/lib/python3.10/dist-packages/IPython/core/interactiveshell.py:3561: UserWarning: To exit: use 'exit', 'quit', or Ctrl-D.\n",
            "  warn(\"To exit: use 'exit', 'quit', or Ctrl-D.\", stacklevel=1)\n"
          ]
        }
      ]
    },
    {
      "cell_type": "code",
      "source": [
        "# create a basic neural network\n",
        "\n",
        "# using sequential API (very convenient, not very flexible)\n",
        "# It only allows us to map one input into one output\n",
        "model = keras.Sequential(\n",
        "    [\n",
        "        keras.Input(shape=(28*28)), #specify the input\n",
        "        layers.Dense(512, activation='relu'),\n",
        "        layers.Dense(256, activation='relu'),\n",
        "        layers.Dense(10),\n",
        "    ]\n",
        ")\n",
        "\n",
        "# manual intervention\n",
        "model = keras.Sequential()\n",
        "model.add(keras.Input(shape=(754)))\n",
        "model.add(layers.Dense(512, activation='relu'))\n",
        "print(model.summary()) # printing summary after 1 layer\n",
        "model.add(layers.Dense(256, activation='relu'))\n",
        "model.add(layers.Dense(10))\n",
        "print(model.summary()) # prinitng summary after 2 layers\n",
        "\n"
      ],
      "metadata": {
        "colab": {
          "base_uri": "https://localhost:8080/"
        },
        "id": "p7AFNc35lTwv",
        "outputId": "258e8ae3-942c-4a89-a844-da089be4f89a"
      },
      "execution_count": 9,
      "outputs": [
        {
          "output_type": "stream",
          "name": "stdout",
          "text": [
            "Model: \"sequential_6\"\n",
            "_________________________________________________________________\n",
            " Layer (type)                Output Shape              Param #   \n",
            "=================================================================\n",
            " dense_18 (Dense)            (None, 512)               386560    \n",
            "                                                                 \n",
            "=================================================================\n",
            "Total params: 386560 (1.47 MB)\n",
            "Trainable params: 386560 (1.47 MB)\n",
            "Non-trainable params: 0 (0.00 Byte)\n",
            "_________________________________________________________________\n",
            "None\n",
            "Model: \"sequential_6\"\n",
            "_________________________________________________________________\n",
            " Layer (type)                Output Shape              Param #   \n",
            "=================================================================\n",
            " dense_18 (Dense)            (None, 512)               386560    \n",
            "                                                                 \n",
            " dense_19 (Dense)            (None, 256)               131328    \n",
            "                                                                 \n",
            " dense_20 (Dense)            (None, 10)                2570      \n",
            "                                                                 \n",
            "=================================================================\n",
            "Total params: 520458 (1.99 MB)\n",
            "Trainable params: 520458 (1.99 MB)\n",
            "Non-trainable params: 0 (0.00 Byte)\n",
            "_________________________________________________________________\n",
            "None\n"
          ]
        }
      ]
    },
    {
      "cell_type": "code",
      "source": [
        "# create a basic neural network\n",
        "\n",
        "# using sequential API (very convenient, not very flexible)\n",
        "# It only allows us to map one input into one output\n",
        "model = keras.Sequential(\n",
        "    [\n",
        "        keras.Input(shape=(28*28)), #specify the input\n",
        "        layers.Dense(512, activation='relu'),\n",
        "        layers.Dense(256, activation='relu'),\n",
        "        layers.Dense(10),\n",
        "    ]\n",
        ")\n",
        "\n",
        "# manual intervention\n",
        "model = keras.Sequential()\n",
        "model.add(keras.Input(shape=(784)))\n",
        "model.add(layers.Dense(512, activation='relu'))\n",
        "print(model.summary()) # printing summary after 1 layer\n",
        "model.add(layers.Dense(256, activation='relu'))\n",
        "model.add(layers.Dense(10))\n",
        "print(model.summary()) # prinitng summary after 2 layers\n",
        "\n",
        "\n",
        "print('Functional API')\n",
        "# Functional API (A bit more flexible)\n",
        "inputs = keras.Input(shape=(784))\n",
        "x = layers.Dense(512, activation='relu')(inputs)\n",
        "x = layers.Dense(256, activation='relu')(x)\n",
        "outputs = layers.Dense(10, activation='softmax')(x)\n",
        "moodel = keras.Model(inputs=inputs, outputs=outputs)\n",
        "\n",
        "print(model.summary())\n",
        "\n",
        "\n",
        "model.compile(\n",
        "    loss = keras.losses.SparseCategoricalCrossentropy(from_logits = False),\n",
        "    optimizer = keras.optimizers.Adam(lr=0.001),\n",
        "    metrics = [\"accuracy\"],\n",
        ")\n",
        "\n",
        "model.fit(x_train, y_train, batch_size = 32, epochs = 5, verbose = 2)\n",
        "model.evaluate(x_test, y_test, batch_size = 32, verbose = 2)"
      ],
      "metadata": {
        "colab": {
          "base_uri": "https://localhost:8080/"
        },
        "id": "DP2qn6zcmGyC",
        "outputId": "dfab367b-6fe7-443f-907a-1fc8670ae5e0"
      },
      "execution_count": 14,
      "outputs": [
        {
          "output_type": "stream",
          "name": "stdout",
          "text": [
            "Model: \"sequential_16\"\n",
            "_________________________________________________________________\n",
            " Layer (type)                Output Shape              Param #   \n",
            "=================================================================\n",
            " dense_60 (Dense)            (None, 512)               401920    \n",
            "                                                                 \n",
            "=================================================================\n",
            "Total params: 401920 (1.53 MB)\n",
            "Trainable params: 401920 (1.53 MB)\n",
            "Non-trainable params: 0 (0.00 Byte)\n",
            "_________________________________________________________________\n",
            "None\n",
            "Model: \"sequential_16\"\n",
            "_________________________________________________________________\n",
            " Layer (type)                Output Shape              Param #   \n",
            "=================================================================\n",
            " dense_60 (Dense)            (None, 512)               401920    \n",
            "                                                                 \n",
            " dense_61 (Dense)            (None, 256)               131328    \n",
            "                                                                 \n",
            " dense_62 (Dense)            (None, 10)                2570      \n",
            "                                                                 \n",
            "=================================================================\n",
            "Total params: 535818 (2.04 MB)\n",
            "Trainable params: 535818 (2.04 MB)\n",
            "Non-trainable params: 0 (0.00 Byte)\n",
            "_________________________________________________________________\n",
            "None\n",
            "Functional API\n",
            "Model: \"sequential_16\"\n",
            "_________________________________________________________________\n",
            " Layer (type)                Output Shape              Param #   \n",
            "=================================================================\n",
            " dense_60 (Dense)            (None, 512)               401920    \n",
            "                                                                 \n",
            " dense_61 (Dense)            (None, 256)               131328    \n",
            "                                                                 \n",
            " dense_62 (Dense)            (None, 10)                2570      \n",
            "                                                                 \n",
            "=================================================================\n",
            "Total params: 535818 (2.04 MB)\n",
            "Trainable params: 535818 (2.04 MB)\n",
            "Non-trainable params: 0 (0.00 Byte)\n",
            "_________________________________________________________________\n"
          ]
        },
        {
          "output_type": "stream",
          "name": "stderr",
          "text": [
            "WARNING:absl:`lr` is deprecated in Keras optimizer, please use `learning_rate` or use the legacy optimizer, e.g.,tf.keras.optimizers.legacy.Adam.\n"
          ]
        },
        {
          "output_type": "stream",
          "name": "stdout",
          "text": [
            "None\n",
            "Epoch 1/5\n",
            "1875/1875 - 8s - loss: 2.5920 - accuracy: 0.1510 - 8s/epoch - 4ms/step\n",
            "Epoch 2/5\n",
            "1875/1875 - 4s - loss: 2.3023 - accuracy: 0.1076 - 4s/epoch - 2ms/step\n",
            "Epoch 3/5\n",
            "1875/1875 - 5s - loss: 2.3023 - accuracy: 0.1076 - 5s/epoch - 3ms/step\n",
            "Epoch 4/5\n",
            "1875/1875 - 4s - loss: 2.3023 - accuracy: 0.1076 - 4s/epoch - 2ms/step\n",
            "Epoch 5/5\n",
            "1875/1875 - 4s - loss: 2.3022 - accuracy: 0.1077 - 4s/epoch - 2ms/step\n",
            "313/313 - 1s - loss: 2.3019 - accuracy: 0.1072 - 627ms/epoch - 2ms/step\n"
          ]
        },
        {
          "output_type": "execute_result",
          "data": {
            "text/plain": [
              "[2.3019001483917236, 0.10719999670982361]"
            ]
          },
          "metadata": {},
          "execution_count": 14
        }
      ]
    },
    {
      "cell_type": "code",
      "source": [
        "# We can name the specific layers\n",
        "# create a basic neural network\n",
        "\n",
        "# using sequential API (very convenient, not very flexible)\n",
        "# It only allows us to map one input into one output\n",
        "model = keras.Sequential(\n",
        "    [\n",
        "        keras.Input(shape=(28*28)), #specify the input\n",
        "        layers.Dense(512, activation='relu'),\n",
        "        layers.Dense(256, activation='relu'),\n",
        "        layers.Dense(10),\n",
        "    ]\n",
        ")\n",
        "\n",
        "# manual intervention\n",
        "model = keras.Sequential()\n",
        "model.add(keras.Input(shape=(784)))\n",
        "model.add(layers.Dense(512, activation='relu'))\n",
        "print(model.summary()) # printing summary after 1 layer\n",
        "model.add(layers.Dense(256, activation='relu'))\n",
        "model.add(layers.Dense(10))\n",
        "print(model.summary()) # prinitng summary after 2 layers\n",
        "\n",
        "\n",
        "print('Functional API')\n",
        "# Functional API (A bit more flexible)\n",
        "inputs = keras.Input(shape=(784))\n",
        "x = layers.Dense(512, activation='relu', name='first_layer')(inputs)\n",
        "x = layers.Dense(256, activation='relu', name='second_layer')(x)\n",
        "outputs = layers.Dense(10, activation='softmax')(x)\n",
        "moodel = keras.Model(inputs=inputs, outputs=outputs)\n",
        "\n",
        "print(model.summary())\n",
        "\n",
        "\n",
        "model.compile(\n",
        "    loss = keras.losses.SparseCategoricalCrossentropy(from_logits = False),\n",
        "    optimizer = keras.optimizers.Adam(learning_rate=0.001),\n",
        "    metrics = [\"accuracy\"],\n",
        ")\n",
        "\n",
        "model.fit(x_train, y_train, batch_size = 32, epochs = 5, verbose = 2)\n",
        "model.evaluate(x_test, y_test, batch_size = 32, verbose = 2)"
      ],
      "metadata": {
        "colab": {
          "base_uri": "https://localhost:8080/"
        },
        "id": "2Upno7Hso48n",
        "outputId": "25b7b2dd-3fd9-4889-9119-7eace1011a5d"
      },
      "execution_count": 16,
      "outputs": [
        {
          "output_type": "stream",
          "name": "stdout",
          "text": [
            "Model: \"sequential_20\"\n",
            "_________________________________________________________________\n",
            " Layer (type)                Output Shape              Param #   \n",
            "=================================================================\n",
            " dense_76 (Dense)            (None, 512)               401920    \n",
            "                                                                 \n",
            "=================================================================\n",
            "Total params: 401920 (1.53 MB)\n",
            "Trainable params: 401920 (1.53 MB)\n",
            "Non-trainable params: 0 (0.00 Byte)\n",
            "_________________________________________________________________\n",
            "None\n",
            "Model: \"sequential_20\"\n",
            "_________________________________________________________________\n",
            " Layer (type)                Output Shape              Param #   \n",
            "=================================================================\n",
            " dense_76 (Dense)            (None, 512)               401920    \n",
            "                                                                 \n",
            " dense_77 (Dense)            (None, 256)               131328    \n",
            "                                                                 \n",
            " dense_78 (Dense)            (None, 10)                2570      \n",
            "                                                                 \n",
            "=================================================================\n",
            "Total params: 535818 (2.04 MB)\n",
            "Trainable params: 535818 (2.04 MB)\n",
            "Non-trainable params: 0 (0.00 Byte)\n",
            "_________________________________________________________________\n",
            "None\n",
            "Functional API\n",
            "Model: \"sequential_20\"\n",
            "_________________________________________________________________\n",
            " Layer (type)                Output Shape              Param #   \n",
            "=================================================================\n",
            " dense_76 (Dense)            (None, 512)               401920    \n",
            "                                                                 \n",
            " dense_77 (Dense)            (None, 256)               131328    \n",
            "                                                                 \n",
            " dense_78 (Dense)            (None, 10)                2570      \n",
            "                                                                 \n",
            "=================================================================\n",
            "Total params: 535818 (2.04 MB)\n",
            "Trainable params: 535818 (2.04 MB)\n",
            "Non-trainable params: 0 (0.00 Byte)\n",
            "_________________________________________________________________\n",
            "None\n",
            "Epoch 1/5\n",
            "1875/1875 - 5s - loss: 2.3150 - accuracy: 0.1631 - 5s/epoch - 3ms/step\n",
            "Epoch 2/5\n",
            "1875/1875 - 4s - loss: 2.3026 - accuracy: 0.1614 - 4s/epoch - 2ms/step\n",
            "Epoch 3/5\n",
            "1875/1875 - 5s - loss: 2.3026 - accuracy: 0.1614 - 5s/epoch - 3ms/step\n",
            "Epoch 4/5\n",
            "1875/1875 - 4s - loss: 2.3026 - accuracy: 0.1614 - 4s/epoch - 2ms/step\n",
            "Epoch 5/5\n",
            "1875/1875 - 4s - loss: 2.3026 - accuracy: 0.1614 - 4s/epoch - 2ms/step\n",
            "313/313 - 1s - loss: 2.3026 - accuracy: 0.1568 - 637ms/epoch - 2ms/step\n"
          ]
        },
        {
          "output_type": "execute_result",
          "data": {
            "text/plain": [
              "[2.30259108543396, 0.15680000185966492]"
            ]
          },
          "metadata": {},
          "execution_count": 16
        }
      ]
    },
    {
      "cell_type": "code",
      "source": [
        "# create a basic neural network\n",
        "\n",
        "# using sequential API (very convenient, not very flexible)\n",
        "# It only allows us to map one input into one output\n",
        "model = keras.Sequential(\n",
        "    [\n",
        "        keras.Input(shape=(28*28)), #specify the input\n",
        "        layers.Dense(512, activation='relu'),\n",
        "        layers.Dense(256, activation='relu'),\n",
        "        layers.Dense(10),\n",
        "    ]\n",
        ")\n",
        "\n",
        "# manual intervention = Sequential API\n",
        "model = keras.Sequential()\n",
        "model.add(keras.Input(shape=(784)))\n",
        "model.add(layers.Dense(512, activation='relu'))\n",
        "print(model.summary()) # printing summary after 1 layer\n",
        "model.add(layers.Dense(256, activation='relu'))\n",
        "model.add(layers.Dense(10))\n",
        "print(model.summary()) # prinitng summary after 2 layers\n",
        "\n",
        "model = keras.Model(inputs=model.inputs,\n",
        "                    outputs=[model.layers[-2].output])\n",
        "feature = model.predict(x_train)\n",
        "print(feature.shape)\n",
        "\n",
        "\n",
        "\n",
        "\n",
        "import sys\n",
        "sys.exit()\n",
        "\n",
        "print('Functional API')\n",
        "# Functional API (A bit more flexible)\n",
        "inputs = keras.Input(shape=(784))\n",
        "x = layers.Dense(512, activation='relu')(inputs)\n",
        "x = layers.Dense(256, activation='relu')(x)\n",
        "outputs = layers.Dense(10, activation='softmax')(x)\n",
        "moodel = keras.Model(inputs=inputs, outputs=outputs)\n",
        "\n",
        "print(model.summary())\n",
        "\n",
        "\n",
        "model.compile(\n",
        "    loss = keras.losses.SparseCategoricalCrossentropy(from_logits = False),\n",
        "    optimizer = keras.optimizers.Adam(lr=0.001),\n",
        "    metrics = [\"accuracy\"],\n",
        ")\n",
        "\n",
        "model.fit(x_train, y_train, batch_size = 32, epochs = 5, verbose = 2)\n",
        "model.evaluate(x_test, y_test, batch_size = 32, verbose = 2)"
      ],
      "metadata": {
        "colab": {
          "base_uri": "https://localhost:8080/",
          "height": 679
        },
        "id": "vl8e7mmlsIn1",
        "outputId": "7177fbd7-cfcd-445c-a4c6-a3832494fbfe"
      },
      "execution_count": 18,
      "outputs": [
        {
          "output_type": "stream",
          "name": "stdout",
          "text": [
            "Model: \"sequential_24\"\n",
            "_________________________________________________________________\n",
            " Layer (type)                Output Shape              Param #   \n",
            "=================================================================\n",
            " dense_89 (Dense)            (None, 512)               401920    \n",
            "                                                                 \n",
            "=================================================================\n",
            "Total params: 401920 (1.53 MB)\n",
            "Trainable params: 401920 (1.53 MB)\n",
            "Non-trainable params: 0 (0.00 Byte)\n",
            "_________________________________________________________________\n",
            "None\n",
            "Model: \"sequential_24\"\n",
            "_________________________________________________________________\n",
            " Layer (type)                Output Shape              Param #   \n",
            "=================================================================\n",
            " dense_89 (Dense)            (None, 512)               401920    \n",
            "                                                                 \n",
            " dense_90 (Dense)            (None, 256)               131328    \n",
            "                                                                 \n",
            " dense_91 (Dense)            (None, 10)                2570      \n",
            "                                                                 \n",
            "=================================================================\n",
            "Total params: 535818 (2.04 MB)\n",
            "Trainable params: 535818 (2.04 MB)\n",
            "Non-trainable params: 0 (0.00 Byte)\n",
            "_________________________________________________________________\n",
            "None\n",
            "1875/1875 [==============================] - 3s 2ms/step\n",
            "(60000, 256)\n"
          ]
        },
        {
          "output_type": "error",
          "ename": "SystemExit",
          "evalue": "",
          "traceback": [
            "An exception has occurred, use %tb to see the full traceback.\n",
            "\u001b[0;31mSystemExit\u001b[0m\n"
          ]
        },
        {
          "output_type": "stream",
          "name": "stderr",
          "text": [
            "/usr/local/lib/python3.10/dist-packages/IPython/core/interactiveshell.py:3561: UserWarning: To exit: use 'exit', 'quit', or Ctrl-D.\n",
            "  warn(\"To exit: use 'exit', 'quit', or Ctrl-D.\", stacklevel=1)\n"
          ]
        }
      ]
    },
    {
      "cell_type": "code",
      "source": [
        "# create a basic neural network\n",
        "\n",
        "# using sequential API (very convenient, not very flexible)\n",
        "# It only allows us to map one input into one output\n",
        "model = keras.Sequential(\n",
        "    [\n",
        "        keras.Input(shape=(28*28)), #specify the input\n",
        "        layers.Dense(512, activation='relu'),\n",
        "        layers.Dense(256, activation='relu'),\n",
        "        layers.Dense(10),\n",
        "    ]\n",
        ")\n",
        "\n",
        "# manual intervention = Sequential API\n",
        "model = keras.Sequential()\n",
        "model.add(keras.Input(shape=(784)))\n",
        "model.add(layers.Dense(512, activation='relu'))\n",
        "\n",
        "model.add(layers.Dense(256, activation='relu', name='my_layer'))\n",
        "model.add(layers.Dense(10))\n",
        "\n",
        "model = keras.Model(inputs=model.inputs,\n",
        "                    outputs=[model.get_layer('my_layer').output])\n",
        "feature = model.predict(x_train)\n",
        "print(feature.shape)\n",
        "\n",
        "\n",
        "\n",
        "\n",
        "import sys\n",
        "sys.exit()\n",
        "\n",
        "print('Functional API')\n",
        "# Functional API (A bit more flexible)\n",
        "inputs = keras.Input(shape=(784))\n",
        "x = layers.Dense(512, activation='relu')(inputs)\n",
        "x = layers.Dense(256, activation='relu')(x)\n",
        "outputs = layers.Dense(10, activation='softmax')(x)\n",
        "moodel = keras.Model(inputs=inputs, outputs=outputs)\n",
        "\n",
        "print(model.summary())\n",
        "\n",
        "\n",
        "model.compile(\n",
        "    loss = keras.losses.SparseCategoricalCrossentropy(from_logits = False),\n",
        "    optimizer = keras.optimizers.Adam(lr=0.001),\n",
        "    metrics = [\"accuracy\"],\n",
        ")\n",
        "\n",
        "model.fit(x_train, y_train, batch_size = 32, epochs = 5, verbose = 2)\n",
        "model.evaluate(x_test, y_test, batch_size = 32, verbose = 2)"
      ],
      "metadata": {
        "colab": {
          "base_uri": "https://localhost:8080/",
          "height": 193
        },
        "id": "YKO_30Jhvc1-",
        "outputId": "4a4b1f8f-5913-4e59-eae4-1d1128f31c56"
      },
      "execution_count": 19,
      "outputs": [
        {
          "output_type": "stream",
          "name": "stdout",
          "text": [
            "1875/1875 [==============================] - 2s 1ms/step\n",
            "(60000, 256)\n"
          ]
        },
        {
          "output_type": "error",
          "ename": "SystemExit",
          "evalue": "",
          "traceback": [
            "An exception has occurred, use %tb to see the full traceback.\n",
            "\u001b[0;31mSystemExit\u001b[0m\n"
          ]
        },
        {
          "output_type": "stream",
          "name": "stderr",
          "text": [
            "/usr/local/lib/python3.10/dist-packages/IPython/core/interactiveshell.py:3561: UserWarning: To exit: use 'exit', 'quit', or Ctrl-D.\n",
            "  warn(\"To exit: use 'exit', 'quit', or Ctrl-D.\", stacklevel=1)\n"
          ]
        }
      ]
    },
    {
      "cell_type": "code",
      "source": [
        "# create a basic neural network\n",
        "\n",
        "# using sequential API (very convenient, not very flexible)\n",
        "# It only allows us to map one input into one output\n",
        "model = keras.Sequential(\n",
        "    [\n",
        "        keras.Input(shape=(28*28)), #specify the input\n",
        "        layers.Dense(512, activation='relu'),\n",
        "        layers.Dense(256, activation='relu'),\n",
        "        layers.Dense(10),\n",
        "    ]\n",
        ")\n",
        "\n",
        "# manual intervention = Sequential API\n",
        "model = keras.Sequential()\n",
        "model.add(keras.Input(shape=(784)))\n",
        "model.add(layers.Dense(512, activation='relu'))\n",
        "\n",
        "model.add(layers.Dense(256, activation='relu', name='my_layer'))\n",
        "model.add(layers.Dense(10))\n",
        "\n",
        "model = keras.Model(inputs=model.inputs,\n",
        "                    outputs=[layer.output for layer in model.layers])\n",
        "features = model.predict(x_train)\n",
        "\n",
        "for feature in features:\n",
        "  print(feature.shape)\n",
        "\n",
        "\n",
        "import sys\n",
        "sys.exit()\n",
        "\n",
        "print('Functional API')\n",
        "# Functional API (A bit more flexible)\n",
        "inputs = keras.Input(shape=(784))\n",
        "x = layers.Dense(512, activation='relu')(inputs)\n",
        "x = layers.Dense(256, activation='relu')(x)\n",
        "outputs = layers.Dense(10, activation='softmax')(x)\n",
        "moodel = keras.Model(inputs=inputs, outputs=outputs)\n",
        "\n",
        "print(model.summary())\n",
        "\n",
        "\n",
        "model.compile(\n",
        "    loss = keras.losses.SparseCategoricalCrossentropy(from_logits = False),\n",
        "    optimizer = keras.optimizers.Adam(lr=0.001),\n",
        "    metrics = [\"accuracy\"],\n",
        ")\n",
        "\n",
        "model.fit(x_train, y_train, batch_size = 32, epochs = 5, verbose = 2)\n",
        "model.evaluate(x_test, y_test, batch_size = 32, verbose = 2)"
      ],
      "metadata": {
        "colab": {
          "base_uri": "https://localhost:8080/",
          "height": 227
        },
        "id": "KNcWhEhRwAWR",
        "outputId": "6cc45b0d-dd01-4391-9d50-a56fedbe1ab3"
      },
      "execution_count": 20,
      "outputs": [
        {
          "output_type": "stream",
          "name": "stdout",
          "text": [
            "1875/1875 [==============================] - 4s 2ms/step\n",
            "(60000, 512)\n",
            "(60000, 256)\n",
            "(60000, 10)\n"
          ]
        },
        {
          "output_type": "error",
          "ename": "SystemExit",
          "evalue": "",
          "traceback": [
            "An exception has occurred, use %tb to see the full traceback.\n",
            "\u001b[0;31mSystemExit\u001b[0m\n"
          ]
        },
        {
          "output_type": "stream",
          "name": "stderr",
          "text": [
            "/usr/local/lib/python3.10/dist-packages/IPython/core/interactiveshell.py:3561: UserWarning: To exit: use 'exit', 'quit', or Ctrl-D.\n",
            "  warn(\"To exit: use 'exit', 'quit', or Ctrl-D.\", stacklevel=1)\n"
          ]
        }
      ]
    },
    {
      "cell_type": "markdown",
      "source": [
        "## Suggestions\n",
        "\n",
        "1. Try and see what accuracy you can get by increasing the model, training for longer, etcetera. You should be able to get over 98.2% on the test set!\n",
        "2. Try using different optimizers than Adam, for example Gradient Descent with Momentum, Adagrad, and RMSprop.\n",
        "3. Is there any difference if you remove the normalization of the data?"
      ],
      "metadata": {
        "id": "8bUGCJJVz98I"
      }
    }
  ]
}