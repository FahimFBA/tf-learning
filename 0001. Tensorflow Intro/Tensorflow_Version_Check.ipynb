{
 "cells": [
  {
   "cell_type": "markdown",
   "id": "0fc33014-8440-4f33-bdfd-97319116e765",
   "metadata": {},
   "source": [
    "# Check whether my computer is using the CUDA from my Zotac Nvidia GeForce RTX 3050 8GB GDDR6 GPU or not"
   ]
  },
  {
   "cell_type": "code",
   "execution_count": 2,
   "id": "bb963eb5-7f11-4858-b5b5-0c9bd3772826",
   "metadata": {},
   "outputs": [
    {
     "name": "stdout",
     "output_type": "stream",
     "text": [
      "True\n"
     ]
    }
   ],
   "source": [
    "import torch # importing pytorch\n",
    "print(torch.cuda.is_available())"
   ]
  },
  {
   "cell_type": "markdown",
   "id": "bf2a2347-bd56-4785-8daa-a399ced82a0f",
   "metadata": {},
   "source": [
    "# Also check Nvidia-SMI"
   ]
  },
  {
   "cell_type": "code",
   "execution_count": 3,
   "id": "6101bb78-d74e-4fc9-86d9-222663fe69fd",
   "metadata": {},
   "outputs": [
    {
     "name": "stdout",
     "output_type": "stream",
     "text": [
      "Tue Nov  7 13:29:30 2023       \n",
      "+---------------------------------------------------------------------------------------+\n",
      "| NVIDIA-SMI 545.29.01              Driver Version: 546.01       CUDA Version: 12.3     |\n",
      "|-----------------------------------------+----------------------+----------------------+\n",
      "| GPU  Name                 Persistence-M | Bus-Id        Disp.A | Volatile Uncorr. ECC |\n",
      "| Fan  Temp   Perf          Pwr:Usage/Cap |         Memory-Usage | GPU-Util  Compute M. |\n",
      "|                                         |                      |               MIG M. |\n",
      "|=========================================+======================+======================|\n",
      "|   0  NVIDIA GeForce RTX 3050        On  | 00000000:07:00.0  On |                  N/A |\n",
      "| 36%   43C    P0              26W / 130W |    805MiB /  8192MiB |      2%      Default |\n",
      "|                                         |                      |                  N/A |\n",
      "+-----------------------------------------+----------------------+----------------------+\n",
      "                                                                                         \n",
      "+---------------------------------------------------------------------------------------+\n",
      "| Processes:                                                                            |\n",
      "|  GPU   GI   CI        PID   Type   Process name                            GPU Memory |\n",
      "|        ID   ID                                                             Usage      |\n",
      "|=======================================================================================|\n",
      "|  No running processes found                                                           |\n",
      "+---------------------------------------------------------------------------------------+\n"
     ]
    }
   ],
   "source": [
    "!nvidia-smi"
   ]
  },
  {
   "cell_type": "markdown",
   "id": "cbe05b4e-9fdb-44db-a3eb-cfc6ccdcbb2a",
   "metadata": {},
   "source": [
    "# Check the processes"
   ]
  },
  {
   "cell_type": "code",
   "execution_count": 4,
   "id": "32b98e41-3e00-4f53-a7d6-91af4b6c5764",
   "metadata": {},
   "outputs": [
    {
     "name": "stdout",
     "output_type": "stream",
     "text": [
      "\u001b[3B\u001b[m\u001b[30m\u001b[46m    791 fahim      20   0 33.8G  765M  383M S  2.0  6.4  0:03.31 /usr/bin/python\u001b[11;5H\u001b[m\u001b[m798 fahim\u001b[6C20   0 \u001b[32m33\u001b[36m.8\u001b[32mG \u001b[36m 765M  383M \u001b[m\u001b[mS  1.3  6.4  0:00.04 \u001b[32m/usr/bin/python\u001b[12;5H\u001b[m\u001b[m341 \u001b[30m\u001b[1mroot      \u001b[m\u001b[m 20   0 \u001b[36m 785M 81\u001b[m\u001b[m472 \u001b[36m23\u001b[m\u001b[m024 S  0.7  0.7  0:02.48 /snap/ubuntu-de\u001b[13;1H      1 \u001b[30m\u001b[1mroot      \u001b[m\u001b[m 20   0 \u001b[36m 162M 12\u001b[m\u001b[m236 \u001b[36m 8\u001b[m\u001b[m104 S  0.0  0.1  0:00.65 /sbin/init\u001b[K\u001b[Hot      \u001b[m\u001b[m 20   0 \u001b[36m 2\u001b[m\u001b[m368    72    68 S  0.0  0.0  0:00.00 \u001b[32mplan9 --control\u001b[14;7H\u001b[m\u001b[m7 \u001b[30m\u001b[1mroot      \u001b[m\u001b[m 20   0 \u001b[36m 2\u001b[m\u001b[m324 \u001b[36m 1\u001b[m\u001b[m260 \u001b[36m 1\u001b[m\u001b[m148 S  0.0  0.0  0:00.00 \u001b[32m/init\u001b[15;6H\u001b[m\u001b[m38 \u001b[30m\u001b[1mroot      \u001b[m\u001b[m 19 \u001b[31m -1 \u001b[36m47\u001b[m\u001b[m732 \u001b[36m14\u001b[m\u001b[m940 \u001b[36m13\u001b[m\u001b[m924 S  0.0  0.1  0:00.18 /lib/systemd/sy\u001b[16;6H60 \u001b[30m\u001b[1mroot      \u001b[m\u001b[m 20   0 \u001b[36m22\u001b[m\u001b[m220 \u001b[36m 6\u001b[m\u001b[m024 \u001b[36m 4\u001b[m\u001b[m352 S  0.0  0.0  0:00.18 /lib/systemd/sy\u001b[17;6H70 \u001b[30m\u001b[1mroot      \u001b[m\u001b[m 20   0 \u001b[36m 4\u001b[m\u001b[m492   184    32 S  0.0  0.0  0:00.00 snapfuse /var/l\u001b[18;6H71 \u001b[30m\u001b[1mroot      \u001b[m\u001b[m 20   0 \u001b[36m 4\u001b[m\u001b[m848 \u001b[36m 1\u001b[m\u001b[m664 \u001b[36m 1\u001b[m\u001b[m188 S  0.0  0.0  0:00.76 snapfuse /var/l\u001b[19;6H72 \u001b[30m\u001b[1mroot      \u001b[m\u001b[m 20   0 \u001b[36m 4\u001b[m\u001b[m492   172    28 S  0.0  0.0  0:00.00 snapfuse /var/l\u001b[20;6H76 \u001b[30m\u001b[1mroot      \u001b[m\u001b[m 20   0 \u001b[36m 4\u001b[m\u001b[m624   192    40 S  0.0  0.0  0:00.00 snapfuse /var/l\u001b[21;6H80 \u001b[30m\u001b[1mroot      \u001b[m\u001b[m 20   0 \u001b[36m 4\u001b[m\u001b[m756 \u001b[36m 1\u001b[m\u001b[m864 \u001b[36m 1\u001b[m\u001b[m328 S  0.0  0.0  0:02.55 snapfuse /var/l\u001b[22;6H87 \u001b[30m\u001b[1mroot      \u001b[m\u001b[m 20   0 \u001b[36m 4\u001b[m\u001b[m492   180    28 S  0.0  0.0  0:00.00 snapfuse /var/l\u001b[23;6H88 \u001b[30m\u001b[1mroot      \u001b[m\u001b[m 20   0 \u001b[36m 4\u001b[m\u001b[m964 \u001b[36m 1\u001b[m\u001b[m768 \u001b[36m 1\u001b[m\u001b[m272 S  0.0  0.0  0:00.97 snapfuse /var/l\u001b[24;1HF1\u001b[30m\u001b[46mHelp  \u001b[m\u001b[mF2\u001b[30m\u001b[46mSetup \u001b[m\u001b[mF3\u001b[30m\u001b[46mSearch\u001b[m\u001b[mF4\u001b[30m\u001b[46mFilter\u001b[m\u001b[mF5\u001b[30m\u001b[46mTree  \u001b[m\u001b[mF6\u001b[30m\u001b[46mSortBy\u001b[m\u001b[mF7\u001b[30m\u001b[46mNice -\u001b[m\u001b[mF8\u001b[30m\u001b[46mNice +\u001b[m\u001b[mF9\u001b[30m\u001b[46mKill  \u001b[m\u001b[mF10\u001b[30m\u001b[46mQui\u001b[4ht\u001b[4l\u001b[H\u001b[m\u001b[m\u001b[10;23r\u001b[10;1H\u001b[3L\u001b[1;24r\u001b[2;7H\u001b[31m|\u001b[2;35H\u001b[30m\u001b[1m7\u001b[2;45H\u001b[m\u001b[32m|\u001b[31m|\u001b[2;71H\u001b[30m\u001b[1m2\u001b[3;7H\u001b[m\u001b[31m|\u001b[3;35H\u001b[30m\u001b[1m7\u001b[3;45H\u001b[m\u001b[32m|\u001b[27C\u001b[30m\u001b[1m7\u001b[4;45H\u001b[m\u001b[32m|\u001b[27C\u001b[30m\u001b[1m7\u001b[5;29H5\u001b[7;56H\u001b[36m6\u001b[12;23r\u001b[23;1H\n",
      "\u001b[1;24r\u001b[2;7H\u001b[30m\u001b[1m \u001b[2;35H0\u001b[2;46H \u001b[2;71H1.3\u001b[3;7H \u001b[3;35H0\u001b[3;45H\u001b[m\u001b[31m|\u001b[1\u001b[30m\u001b[1m \u001b[27C0\u001b[6;58H\u001b[m2\u001b[7;56H\u001b[36m7\u001b[10;48H\u001b[m\u001b[30m\u001b[46m1.3\u001b[10;64H3\u001b[11;48H\u001b[m\u001b[m0.7\u001b[11;64H5\u001b[23;6H80 \u001b[30m\u001b[1mroot      \u001b[m\u001b[m 20   0 \u001b[36m 4\u001b[m\u001b[m756 \u001b[36m 1\u001b[m\u001b[m864 \u001b[36m 1\u001b[m\u001b[m328 S  0.0  0.0  0:02.55 snapfuse /var/l\u001b[1;1H\u001b[11;23r\u001b[11;1H\u001bM\u001b[1;24r\u001b[2;45H\u001b[31m|\u001b[2;71H\u001b[30m\u001b[1m0.7\u001b[3;45H \u001b[27C0\u001b[5;29H6\u001b[7;56H\u001b[36m9\u001b[10;64H\u001b[m\u001b[30m\u001b[46m5\u001b[11;5H\u001b[m\u001b[m751 fahim\u001b[6C20   0 \u001b[36m 467M   98M 20\u001b[m\u001b[m348 S  0.7  0.8  0:03.34 /usr/bin/python\u001b[12;64H6\u001b[H\u001b[11;23r\u001b[23;1H\n",
      "\u001b[1;24r\u001b[2;7H\u001b[31m|\u001b[2;35H\u001b[30m\u001b[1m7\u001b[2;45H\u001b[m\u001b[32m|\u001b[2;71H\u001b[30m\u001b[1m1.3\u001b[3;45H\u001b[m\u001b[32m|\u001b[27C\u001b[30m\u001b[1m7\u001b[4;7H\u001b[m\u001b[32m|\u001b[4;35H\u001b[30m\u001b[1m7\u001b[7;55H\u001b[36m20\u001b[10;64H\u001b[m\u001b[30m\u001b[46m7\u001b[11;48H\u001b[m\u001b[m1.3\u001b[11;64H8\u001b[23;6H80 \u001b[30m\u001b[1mroot      \u001b[m\u001b[m 20   0 \u001b[36m 4\u001b[m\u001b[m756 \u001b[36m 1\u001b[m\u001b[m864 \u001b[36m 1\u001b[m\u001b[m328 S  0.0  0.0  0:02.55 snapfuse /var/l\u001b[1;1H\u001b[2;7H\u001b[30m\u001b[1m \u001b[2;35H0\u001b[2;71H0.7\u001b[3;71H1.3\u001b[7;56H\u001b[36m2\u001b[10;64H\u001b[m\u001b[30m\u001b[46m9\u001b[11;48H\u001b[m\u001b[m0.7\u001b[11;64H9\u001b[H\u001b[3;71H\u001b[30m\u001b[1m0.7\u001b[4;7H \u001b[4;35H0\u001b[7;56H\u001b[36m3\u001b[10;63H\u001b[m\u001b[30m\u001b[46m41\u001b[11;48H\u001b[m\u001b[m1.3\u001b[11;63H11\u001b[H\u001b[11;23r\u001b[11;1H\u001bM\u001b[1;24r\u001b[3;45H\u001b[31m|\u001b[4;7H\u001b[32m|\u001b[4;35H\u001b[30m\u001b[1m7\u001b[7;56H\u001b[36m5\u001b[10;48H\u001b[m\u001b[30m\u001b[46m2.0\u001b[10;64H4\u001b[11;5H\u001b[m\u001b[m751 fahim\u001b[6C20   0 \u001b[36m 467M   98M 20\u001b[m\u001b[m348 S  0.7  0.8  0:03.35 /usr/bin/python\u001b[12;48H0.7\u001b[12;64H2\u001b[H\u001b[13;23r\u001b[13;1H\u001bM\u001b[1;24r\u001b[2;71H\u001b[30m\u001b[1m1.3\u001b[3;45H \u001b[27C0\u001b[4;7H \u001b[4;35H0\u001b[7;56H\u001b[36m6\u001b[10;48H\u001b[m\u001b[30m\u001b[46m1.3\u001b[10;64H6\u001b[1\u001b[m\u001b[m6\u001b[13\u001b[13;5H958 fahim\u001b[6C20   0 \u001b[36m 5\u001b[m\u001b[m392 \u001b[36m 3\u001b[m\u001b[m756 \u001b[36m 3\u001b[m\u001b[m112 \u001b[32mR \u001b[m\u001b[m 0.7  0.0  0:00.01 htop\u001b[H\u001b[12;23r\u001b[12;1H\u001b[2M\u001b[1;24r\u001b[2;46H\u001b[31m|\u001b[5;29H\u001b[30m\u001b[1m7\u001b[6;68H\u001b[m\u001b[36m3\u001b[7;56H\u001b[1m8\u001b[10;64H\u001b[m\u001b[30m\u001b[46m8\u001b[11;6H\u001b[m\u001b[m98\u001b[11;27H\u001b[32m33\u001b[36m.8\u001b[32mG \u001b[36m 765M  383M \u001b[11;53H\u001b[m\u001b[m6.4  0:00.14 \u001b[32m/usr/bin/python\u001b[22;6H\u001b[m\u001b[m76 \u001b[30m\u001b[1mroot      \u001b[m\u001b[m 20   0 \u001b[36m 4\u001b[m\u001b[m624   192    40 S  0.0  0.0  0:00.00 snapfuse /var/l\u001b[23;6H80 \u001b[30m\u001b[1mroot      \u001b[m\u001b[m 20   0 \u001b[36m 4\u001b[m\u001b[m756 \u001b[36m 1\u001b[m\u001b[m864 \u001b[36m 1\u001b[m\u001b[m328 S  0.0  0.0  0:02.55 snapfuse /var/l\u001b[1;1H\u001b[11;23r\u001b[11;1H\u001b[2L\u001b[1;24r\u001b[2;7H\u001b[31m|\u001b[2;35H\u001b[30m\u001b[1m7\u001b[2;45H\u001b[m\u001b[31m|\u001b[30m\u001b[1m \u001b[2;71H0.7\u001b[3;45H\u001b[m\u001b[32m|\u001b[27C\u001b[30m\u001b[1m7\u001b[4;7H\u001b[m\u001b[32m|\u001b[4;35H\u001b[30m\u001b[1m7\u001b[7;56H\u001b[36m9\u001b[10;63H\u001b[m\u001b[30m\u001b[46m50\u001b[11;5H\u001b[m\u001b[m401 \u001b[30m\u001b[1mroot      \u001b[m\u001b[m 20   0 \u001b[36m43\u001b[m\u001b[m240 \u001b[36m38\u001b[m\u001b[m140 \u001b[36m10\u001b[m\u001b[m220 S  0.7  0.3  0:01.39 python3 /snap/u\u001b[12;5H751 fahim\u001b[6C20   0 \u001b[36m 467M   98M 20\u001b[m\u001b[m348 S  0.7  0.8  0:03.37 /usr/bin/python\u001b[13;64H5\u001b[H\u001b[13;23r\u001b[23;1H\n",
      "\u001b[1;24r\u001b[2;7H\u001b[32m|\u001b[2;45H|\u001b[7;55H\u001b[36m\u001b[1m31\u001b[10;7H\u001b[m\u001b[30m\u001b[46m8\u001b[10;48H2.0\u001b[10;61H0.18\u001b[11;5H\u001b[m\u001b[m791 fahim     \u001b[11;27H\u001b[32m33\u001b[36m.8\u001b[32mG \u001b[36m 765M  383M \u001b[m\u001b[mS  1.3  6.4  0:03.52 /usr/bin/python\u001b[12;64H8\u001b[23;6H76 \u001b[30m\u001b[1mroot      \u001b[m\u001b[m 20   0 \u001b[36m 4\u001b[m\u001b[m624   192    40 S  0.0  0.0  0:00.00 snapfuse /var/l\u001b[1;1H\u001b[12;23r\u001b[23;1H\n",
      "\u001b[1;24r\u001b[2;7H\u001b[30m\u001b[1m \u001b[2;35H0\u001b[3;45H\u001b[m\u001b[31m|\u001b[4;7H\u001b[30m\u001b[1m \u001b[4;35H0\u001b[7;56H\u001b[36m2\u001b[10;7H\u001b[m\u001b[30m\u001b[46m1\u001b[10;48H1.3\u001b[10;61H3.54\u001b[11;7H\u001b[m\u001b[m8\u001b[11;48H0.7\u001b[11;61H0.19 \u001b[32m/usr/bin/python\u001b[23;6H\u001b[m\u001b[m80 \u001b[30m\u001b[1mroot      \u001b[m\u001b[m 20   0 \u001b[36m 4\u001b[m\u001b[m756 \u001b[36m 1\u001b[m\u001b[m864 \u001b[36m 1\u001b[m\u001b[m328 S  0.0  0.0  0:02.55 snapfuse /var/l\u001b[1;1H\u001b[11;23r\u001b[11;1H\u001bM\u001b[1;24r\u001b[2;45H\u001b[30m\u001b[1m \u001b[27C0\u001b[3;45H\u001b[m\u001b[32m|\u001b[1|\u001b[27C\u001b[30m\u001b[1m7\u001b[7;56H\u001b[36m4\u001b[10;36H\u001b[m\u001b[30m\u001b[46m6\u001b[10;64H6\u001b[11;5H\u001b[m\u001b[m751 fahim\u001b[6C20   0 \u001b[36m 467M   98M 20\u001b[m\u001b[m348 S  0.7  0.8  0:03.39 /usr/bin/python\u001b[12;36H\u001b[36m6\u001b[12;63H\u001b[m\u001b[m20\u001b[H\u001b[11;23r\u001b[23;1H\n",
      "\u001b[1;24r\u001b[2;45H\u001b[32m|\u001b[31m|\u001b[2;71H\u001b[30m\u001b[1m1.3\u001b[3;45H \u001b[27C0\u001b[4;45H \u001b[27C0\u001b[7;56H\u001b[36m5\u001b[10;64H\u001b[m\u001b[30m\u001b[46m8\u001b[1\u001b[m\u001b[m1\u001b[23;6H80 \u001b[30m\u001b[1mroot      \u001b[m\u001b[m 20   0 \u001b[36m 4\u001b[m\u001b[m756 \u001b[36m 1\u001b[m\u001b[m864 \u001b[36m 1\u001b[m\u001b[m328 S  0.0  0.0  0:02.55 snapfuse /var/l\u001b[1;1H\u001b[4;7H\u001b[32m|\u001b[4;35H\u001b[30m\u001b[1m7\u001b[7;56H\u001b[36m7\u001b[10;63H\u001b[m\u001b[30m\u001b[46m60\u001b[11;48H\u001b[m\u001b[m1.3\u001b[11;64H3\u001b[H\u001b[2;7H\u001b[31m|\u001b[2;35H\u001b[30m\u001b[1m7\u001b[2;46H \u001b[2;71H0.7\u001b[3;45H\u001b[m\u001b[32m|\u001b[27C\u001b[30m\u001b[1m7\u001b[4;7H \u001b[4;35H0\u001b[7;56H\u001b[36m8\u001b[10;64H\u001b[m\u001b[30m\u001b[46m2\u001b[11;48H\u001b[m\u001b[m0.7\u001b[11;64H4\u001b[H\u001b[12;23r\u001b[12;1H\u001b[2L\u001b[1;24r\u001b[2;7H\u001b[32m|\u001b[31m|\u001b[2;33H\u001b[30m\u001b[1m1.3\u001b[4;7H\u001b[m\u001b[32m|\u001b[4;33H\u001b[30m\u001b[1m1.3\u001b[7;55H\u001b[36m40\u001b[10;6H\u001b[m\u001b[30m\u001b[46m5\u001b[10;27H 467M   98M 20348\u001b[10;53H0.8\u001b[7C41\u001b[11;7H\u001b[m\u001b[m1\u001b[11;48H1.3\u001b[11;61H3.64 /usr/bin/python\u001b[12;5H798 fahim\u001b[6C20   0 \u001b[32m33\u001b[36m.8\u001b[32mG \u001b[36m 766M  383M \u001b[m\u001b[mS  0.7  6.4  0:00.25 \u001b[32m/usr/bin/python\u001b[13;5H\u001b[m\u001b[m958 fahim\u001b[6C20   0 \u001b[36m 5\u001b[m\u001b[m392 \u001b[36m 3\u001b[m\u001b[m756 \u001b[36m 3\u001b[m\u001b[m112 \u001b[32mR \u001b[m\u001b[m 0.7  0.0  0:00.02 htop\u001b[H\u001b[12;23r\u001b[12;1H\u001b[2M\u001b[1;24r\u001b[2;7H\u001b[30m\u001b[1m  \u001b[2;33H0.0\u001b[2;45H\u001b[m\u001b[31m|\u001b[1\u001b[30m\u001b[1m \u001b[27C0\u001b[4;7H \u001b[4;33H0.0\u001b[7;56H\u001b[36m1\u001b[10;6H\u001b[m\u001b[30m\u001b[46m9\u001b[10;27H33.8G  766M  383M\u001b[10;53H6.4\u001b[7C66\u001b[11;7H\u001b[m\u001b[m8\u001b[11;48H0.7\u001b[11;61H0.26 \u001b[32m/usr/bin/python\u001b[22;6H\u001b[m\u001b[m76 \u001b[30m\u001b[1mroot      \u001b[m\u001b[m 20   0 \u001b[36m 4\u001b[m\u001b[m624   192    40 S  0.0  0.0  0:00.00 snapfuse /var/l\u001b[23;6H80 \u001b[30m\u001b[1mroot      \u001b[m\u001b[m 20   0 \u001b[36m 4\u001b[m\u001b[m756 \u001b[36m 1\u001b[m\u001b[m864 \u001b[36m 1\u001b[m\u001b[m328 S  0.0  0.0  0:02.55 snapfuse /var/l\u001b[1;1H\u001b[12;23r\u001b[12;1H\u001bM\u001b[1;24r\u001b[2;45H\u001b[32m|\u001b[31m|\u001b[2;71H\u001b[30m\u001b[1m1.3\u001b[6;58H\u001b[m1\u001b[7;56H\u001b[36m3\u001b[10;64H\u001b[m\u001b[30m\u001b[46m8\u001b[11;48H\u001b[m\u001b[m1.3\u001b[11;64H8\u001b[12;5H751 fahim\u001b[6C20   0 \u001b[36m 467M   98M 20\u001b[m\u001b[m348 S  0.7  0.8  0:03.42 /usr/bin/python\u001b[1;1H\u001b[12;23r\u001b[23;1H\n",
      "\u001b[1;24r\u001b[2;45H\u001b[31m|\u001b[30m\u001b[1m \u001b[2;71H0.7\u001b[3;45H\u001b[m\u001b[31m|\u001b[27C\u001b[30m\u001b[1m7\u001b[7;56H\u001b[36m4\u001b[10;63H\u001b[m\u001b[30m\u001b[46m70\u001b[11;48H\u001b[m\u001b[m0.7\u001b[11;64H9\u001b[23;6H80 \u001b[30m\u001b[1mroot      \u001b[m\u001b[m 20   0 \u001b[36m 4\u001b[m\u001b[m756 \u001b[36m 1\u001b[m\u001b[m864 \u001b[36m 1\u001b[m\u001b[m328 S  0.0  0.0  0:02.55 snapfuse /var/l\u001b[1;1H\u001b[2;45H\u001b[32m|\u001b[3;7H\u001b[31m|\u001b[3;35H\u001b[30m\u001b[1m7\u001b[3;45H\u001b[m\u001b[32m|\u001b[31m|\u001b[3;71H\u001b[30m\u001b[1m1.3\u001b[4;45H\u001b[m\u001b[32m|\u001b[27C\u001b[30m\u001b[1m7\u001b[7;56H\u001b[36m6\u001b[10;64H\u001b[m\u001b[30m\u001b[46m2\u001b[\u001b[m\u001b[m30\u001b[H\u001b[12;23r\u001b[12;1H\u001bM\u001b[1;24r\u001b[2;46H\u001b[31m|\u001b[2;71H\u001b[30m\u001b[1m1.3\u001b[3;7H \u001b[3;35H0\u001b[3;46H \u001b[3;71H0.7\u001b[4;45H \u001b[27C0\u001b[7;56H\u001b[36m7\u001b[10;64H\u001b[m\u001b[30m\u001b[46m4\u001b[11;48H\u001b[m\u001b[m1.3\u001b[11;64H2\u001b[12;5H401 \u001b[30m\u001b[1mroot      \u001b[m\u001b[m 20   0 \u001b[36m43\u001b[m\u001b[m240 \u001b[36m38\u001b[m\u001b[m140 \u001b[36m10\u001b[m\u001b[m220 S  0.7  0.3  0:01.40 python3 /snap/u\u001b[1;1H\u001b[12;23r\u001b[23;1H\n",
      "\u001b[?1l\u001b>\u001b[2;46H\u001b[30m\u001b[1m \u001b[2;71H0.7\u001b[4;7H\u001b[m\u001b[32m|\u001b[4;35H\u001b[30m\u001b[1m7\u001b[7;56H\u001b[36m9\u001b[10;64H\u001b[m\u001b[30m\u001b[46m6\u001b[11;48H\u001b[m\u001b[m0.7\u001b[11;64H3\u001b[23;6H80 \u001b[30m\u001b[1mroot      \u001b[m\u001b[m 20   0 \u001b[36m 4\u001b[m\u001b[m756 \u001b[36m 1\u001b[m\u001b[m864 \u001b[36m 1\u001b[m\u001b[m328 S  0.0  0.0  0:02.55 snapfuse /var/l\u001b[1;1H\u001b[12;23r\u001b[12;1H\u001b[2L\u001b[1;24r\u001b[2;7H\u001b[31m|\u001b[2;35H\u001b[30m\u001b[1m7\u001b[2;46H\u001b[m\u001b[31m|\u001b[2;71H\u001b[30m\u001b[1m1.3\u001b[4;33H1.3\u001b[7;55H\u001b[36m50\u001b[10;48H\u001b[m\u001b[30m\u001b[46m2.0\u001b[10;64H9\u001b[11;6H\u001b[m\u001b[m51\u001b[11;27H\u001b[36m 467M   98M 20\u001b[m\u001b[m348 S  1.3  0.8  0:03.44 /usr/bin/python\u001b[12;5H798 fahim\u001b[6C20   0 \u001b[32m33\u001b[36m.8\u001b[32mG \u001b[36m 766M  383M \u001b[m\u001b[mS  0.7  6.4  0:00.34 \u001b[32m/usr/bin/python\u001b[13;5H\u001b[m\u001b[m958 fahim\u001b[6C20   0 \u001b[36m 5\u001b[m\u001b[m392 \u001b[36m 3\u001b[m\u001b[m756 \u001b[36m 3\u001b[m\u001b[m112 \u001b[32mR \u001b[m\u001b[m 0.7  0.0  0:00.03 htop\u001b[H\u001b[12;23r\u001b[12;1H\u001b[2M\u001b[1;24r\u001b[2;7H\u001b[30m\u001b[1m \u001b[2;35H0\u001b[2;45H  \u001b[2;71H0.0\u001b[3;7H\u001b[m\u001b[32m|\u001b[3;35H\u001b[30m\u001b[1m7\u001b[3;46H\u001b[m\u001b[31m|\u001b[3;71H\u001b[30m\u001b[1m1.3\u001b[4;7H \u001b[4;33H0.0\u001b[4;45H\u001b[m\u001b[31m|\u001b[27C\u001b[30m\u001b[1m7\u001b[7;56H\u001b[36m2\u001b[10;7H\u001b[m\u001b[30m\u001b[46m8\u001b[10;48H1.3\u001b[10;61H0.36\u001b[11;6H\u001b[m\u001b[m9\u001b[11;27H\u001b[32m33\u001b[36m.8\u001b[32mG \u001b[36m 766M  383M \u001b[m\u001b[mS  0.7  6.4\u001b[7C80\u001b[22;6H76 \u001b[30m\u001b[1mroot      \u001b[m\u001b[m 20   0 \u001b[36m 4\u001b[m\u001b[m624   192    40 S  0.0  0.0  0:00.00 snapfuse /var/l\u001b[23;6H80 \u001b[30m\u001b[1mroot      \u001b[m\u001b[m 20   0 \u001b[36m 4\u001b[m\u001b[m756 \u001b[36m 1\u001b[m\u001b[m864 \u001b[36m 1\u001b[m\u001b[m328 S  0.0  0.0  0:02.55 snapfuse /var/l\u001b[1;1H\u001b[?1000l\u001b[24;1H\u001b[2J\u001b[?47l\u001b8"
     ]
    }
   ],
   "source": [
    "!htop"
   ]
  },
  {
   "cell_type": "markdown",
   "id": "3d7519cf-0f36-4661-a975-841dbb939a08",
   "metadata": {},
   "source": [
    "# use Neofetch"
   ]
  },
  {
   "cell_type": "code",
   "execution_count": 9,
   "id": "87e6dd5a-b981-4a57-808d-19bff8131d3d",
   "metadata": {},
   "outputs": [
    {
     "name": "stdout",
     "output_type": "stream",
     "text": [
      "\u001b[?25l\u001b[?7l\u001b[0m\u001b[31m\u001b[1m            .-/+oossssoo+/-.\n",
      "        `:+ssssssssssssssssss+:`\n",
      "      -+ssssssssssssssssssyyssss+-\n",
      "    .ossssssssssssssssss\u001b[37m\u001b[0m\u001b[1mdMMMNy\u001b[0m\u001b[31m\u001b[1msssso.\n",
      "   /sssssssssss\u001b[37m\u001b[0m\u001b[1mhdmmNNmmyNMMMMh\u001b[0m\u001b[31m\u001b[1mssssss/\n",
      "  +sssssssss\u001b[37m\u001b[0m\u001b[1mhm\u001b[0m\u001b[31m\u001b[1myd\u001b[37m\u001b[0m\u001b[1mMMMMMMMNddddy\u001b[0m\u001b[31m\u001b[1mssssssss+\n",
      " /ssssssss\u001b[37m\u001b[0m\u001b[1mhNMMM\u001b[0m\u001b[31m\u001b[1myh\u001b[37m\u001b[0m\u001b[1mhyyyyhmNMMMNh\u001b[0m\u001b[31m\u001b[1mssssssss/\n",
      ".ssssssss\u001b[37m\u001b[0m\u001b[1mdMMMNh\u001b[0m\u001b[31m\u001b[1mssssssssss\u001b[37m\u001b[0m\u001b[1mhNMMMd\u001b[0m\u001b[31m\u001b[1mssssssss.\n",
      "+ssss\u001b[37m\u001b[0m\u001b[1mhhhyNMMNy\u001b[0m\u001b[31m\u001b[1mssssssssssss\u001b[37m\u001b[0m\u001b[1myNMMMy\u001b[0m\u001b[31m\u001b[1msssssss+\n",
      "oss\u001b[37m\u001b[0m\u001b[1myNMMMNyMMh\u001b[0m\u001b[31m\u001b[1mssssssssssssss\u001b[37m\u001b[0m\u001b[1mhmmmh\u001b[0m\u001b[31m\u001b[1mssssssso\n",
      "oss\u001b[37m\u001b[0m\u001b[1myNMMMNyMMh\u001b[0m\u001b[31m\u001b[1msssssssssssssshmmmh\u001b[0m\u001b[31m\u001b[1mssssssso\n",
      "+ssss\u001b[37m\u001b[0m\u001b[1mhhhyNMMNy\u001b[0m\u001b[31m\u001b[1mssssssssssss\u001b[37m\u001b[0m\u001b[1myNMMMy\u001b[0m\u001b[31m\u001b[1msssssss+\n",
      ".ssssssss\u001b[37m\u001b[0m\u001b[1mdMMMNh\u001b[0m\u001b[31m\u001b[1mssssssssss\u001b[37m\u001b[0m\u001b[1mhNMMMd\u001b[0m\u001b[31m\u001b[1mssssssss.\n",
      " /ssssssss\u001b[37m\u001b[0m\u001b[1mhNMMM\u001b[0m\u001b[31m\u001b[1myh\u001b[37m\u001b[0m\u001b[1mhyyyyhdNMMMNh\u001b[0m\u001b[31m\u001b[1mssssssss/\n",
      "  +sssssssss\u001b[37m\u001b[0m\u001b[1mdm\u001b[0m\u001b[31m\u001b[1myd\u001b[37m\u001b[0m\u001b[1mMMMMMMMMddddy\u001b[0m\u001b[31m\u001b[1mssssssss+\n",
      "   /sssssssssss\u001b[37m\u001b[0m\u001b[1mhdmNNNNmyNMMMMh\u001b[0m\u001b[31m\u001b[1mssssss/\n",
      "    .ossssssssssssssssss\u001b[37m\u001b[0m\u001b[1mdMMMNy\u001b[0m\u001b[31m\u001b[1msssso.\n",
      "      -+sssssssssssssssss\u001b[37m\u001b[0m\u001b[1myyy\u001b[0m\u001b[31m\u001b[1mssss+-\n",
      "        `:+ssssssssssssssssss+:`\n",
      "            .-/+oossssoo+/-.\u001b[0m\n",
      "\u001b[20A\u001b[9999999D\u001b[43C\u001b[0m\u001b[1m\u001b[31m\u001b[1mfahim\u001b[0m@\u001b[31m\u001b[1mFAHIM-DESKTOP\u001b[0m \n",
      "\u001b[43C\u001b[0m-------------------\u001b[0m \n",
      "\u001b[43C\u001b[0m\u001b[31m\u001b[1mOS\u001b[0m\u001b[0m:\u001b[0m Ubuntu 22.04.3 LTS on Windows 10 x86_64\u001b[0m \n",
      "\u001b[43C\u001b[0m\u001b[31m\u001b[1mKernel\u001b[0m\u001b[0m:\u001b[0m 5.15.90.1-microsoft-standard-WSL2\u001b[0m \n",
      "\u001b[43C\u001b[0m\u001b[31m\u001b[1mUptime\u001b[0m\u001b[0m:\u001b[0m 20 mins\u001b[0m \n",
      "\u001b[43C\u001b[0m\u001b[31m\u001b[1mPackages\u001b[0m\u001b[0m:\u001b[0m 815 (dpkg), 6 (snap)\u001b[0m \n",
      "\u001b[43C\u001b[0m\u001b[31m\u001b[1mShell\u001b[0m\u001b[0m:\u001b[0m bash 5.1.16\u001b[0m \n",
      "\u001b[43C\u001b[0m\u001b[31m\u001b[1mTheme\u001b[0m\u001b[0m:\u001b[0m Adwaita [GTK3]\u001b[0m \n",
      "\u001b[43C\u001b[0m\u001b[31m\u001b[1mIcons\u001b[0m\u001b[0m:\u001b[0m Adwaita [GTK3]\u001b[0m \n",
      "\u001b[43C\u001b[0m\u001b[31m\u001b[1mTerminal\u001b[0m\u001b[0m:\u001b[0m Windows Terminal\u001b[0m \n",
      "\u001b[43C\u001b[0m\u001b[31m\u001b[1mCPU\u001b[0m\u001b[0m:\u001b[0m AMD Ryzen 5 3500X (6) @ 3.593GHz\u001b[0m \n",
      "\u001b[43C\u001b[0m\u001b[31m\u001b[1mGPU\u001b[0m\u001b[0m:\u001b[0m 60fe:00:00.0 Microsoft Corporation Device 008e\u001b[0m \n",
      "\u001b[43C\u001b[0m\u001b[31m\u001b[1mMemory\u001b[0m\u001b[0m:\u001b[0m 1001MiB / 11928MiB\u001b[0m \n",
      "\n",
      "\u001b[43C\u001b[30m\u001b[40m   \u001b[31m\u001b[41m   \u001b[32m\u001b[42m   \u001b[33m\u001b[43m   \u001b[34m\u001b[44m   \u001b[35m\u001b[45m   \u001b[36m\u001b[46m   \u001b[37m\u001b[47m   \u001b[m\n",
      "\u001b[43C\u001b[38;5;8m\u001b[48;5;8m   \u001b[38;5;9m\u001b[48;5;9m   \u001b[38;5;10m\u001b[48;5;10m   \u001b[38;5;11m\u001b[48;5;11m   \u001b[38;5;12m\u001b[48;5;12m   \u001b[38;5;13m\u001b[48;5;13m   \u001b[38;5;14m\u001b[48;5;14m   \u001b[38;5;15m\u001b[48;5;15m   \u001b[m\n",
      "\n",
      "\n",
      "\n",
      "\n",
      "\n",
      "\u001b[?25h\u001b[?7h"
     ]
    }
   ],
   "source": [
    "!neofetch"
   ]
  },
  {
   "cell_type": "markdown",
   "id": "e1622563-56e0-4358-ba87-0b230ef34edf",
   "metadata": {},
   "source": [
    "# Check the Tensorflow version"
   ]
  },
  {
   "cell_type": "code",
   "execution_count": 10,
   "id": "6811a4fb-075f-495e-9946-a532c7ed518d",
   "metadata": {},
   "outputs": [
    {
     "name": "stdout",
     "output_type": "stream",
     "text": [
      "2.14.0\n"
     ]
    }
   ],
   "source": [
    "import tensorflow as tf # import tensorflow and name it as tf for now\n",
    "print(tf.__version__) # print the tensorflow version"
   ]
  },
  {
   "cell_type": "markdown",
   "id": "2783faec-0670-4362-9ba5-0d21b6449430",
   "metadata": {},
   "source": [
    "### We have installed the latest LTS version for tensorflow, CUDA, and PyTorch"
   ]
  }
 ],
 "metadata": {
  "kernelspec": {
   "display_name": "Python 3 (ipykernel)",
   "language": "python",
   "name": "python3"
  },
  "language_info": {
   "codemirror_mode": {
    "name": "ipython",
    "version": 3
   },
   "file_extension": ".py",
   "mimetype": "text/x-python",
   "name": "python",
   "nbconvert_exporter": "python",
   "pygments_lexer": "ipython3",
   "version": "3.10.12"
  }
 },
 "nbformat": 4,
 "nbformat_minor": 5
}
